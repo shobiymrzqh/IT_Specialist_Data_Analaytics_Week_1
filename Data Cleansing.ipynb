{
 "cells": [
  {
   "cell_type": "code",
   "execution_count": 1,
   "id": "6c15d1a8",
   "metadata": {},
   "outputs": [],
   "source": [
    "import pandas as pd\n",
    "import numpy as py\n",
    "import matplotlib.pyplot as plt \n",
    "import seaborn as sns "
   ]
  },
  {
   "cell_type": "code",
   "execution_count": 2,
   "id": "f55c8a64",
   "metadata": {},
   "outputs": [],
   "source": [
    "df = pd.read_csv('Latest Covid-19 Data in Asia.csv')"
   ]
  },
  {
   "cell_type": "code",
   "execution_count": 3,
   "id": "e567b92a",
   "metadata": {},
   "outputs": [
    {
     "data": {
      "text/html": [
       "<div>\n",
       "<style scoped>\n",
       "    .dataframe tbody tr th:only-of-type {\n",
       "        vertical-align: middle;\n",
       "    }\n",
       "\n",
       "    .dataframe tbody tr th {\n",
       "        vertical-align: top;\n",
       "    }\n",
       "\n",
       "    .dataframe thead th {\n",
       "        text-align: right;\n",
       "    }\n",
       "</style>\n",
       "<table border=\"1\" class=\"dataframe\">\n",
       "  <thead>\n",
       "    <tr style=\"text-align: right;\">\n",
       "      <th></th>\n",
       "      <th>Country/Other</th>\n",
       "      <th>Total Cases</th>\n",
       "      <th>Total Deaths</th>\n",
       "      <th>Total Recovered</th>\n",
       "      <th>Active Cases</th>\n",
       "      <th>Tot Cases/ 1M pop</th>\n",
       "      <th>Deaths/ 1M pop</th>\n",
       "      <th>Total Tests</th>\n",
       "      <th>Tests/ 1M pop</th>\n",
       "      <th>Population</th>\n",
       "    </tr>\n",
       "  </thead>\n",
       "  <tbody>\n",
       "    <tr>\n",
       "      <th>0</th>\n",
       "      <td>Afghanistan</td>\n",
       "      <td>225850</td>\n",
       "      <td>7946</td>\n",
       "      <td>206436.0</td>\n",
       "      <td>11468.0</td>\n",
       "      <td>5542</td>\n",
       "      <td>195</td>\n",
       "      <td>1305526.0</td>\n",
       "      <td>32034.0</td>\n",
       "      <td>40754388</td>\n",
       "    </tr>\n",
       "    <tr>\n",
       "      <th>1</th>\n",
       "      <td>Armenia</td>\n",
       "      <td>449357</td>\n",
       "      <td>8751</td>\n",
       "      <td>435162.0</td>\n",
       "      <td>5444.0</td>\n",
       "      <td>151199</td>\n",
       "      <td>2945</td>\n",
       "      <td>3242901.0</td>\n",
       "      <td>1091164.0</td>\n",
       "      <td>2971966</td>\n",
       "    </tr>\n",
       "    <tr>\n",
       "      <th>2</th>\n",
       "      <td>Azerbaijan</td>\n",
       "      <td>832580</td>\n",
       "      <td>10302</td>\n",
       "      <td>822131.0</td>\n",
       "      <td>147.0</td>\n",
       "      <td>80831</td>\n",
       "      <td>1000</td>\n",
       "      <td>7680488.0</td>\n",
       "      <td>745664.0</td>\n",
       "      <td>10300205</td>\n",
       "    </tr>\n",
       "    <tr>\n",
       "      <th>3</th>\n",
       "      <td>Bahrain</td>\n",
       "      <td>728053</td>\n",
       "      <td>1573</td>\n",
       "      <td>726036.0</td>\n",
       "      <td>444.0</td>\n",
       "      <td>408105</td>\n",
       "      <td>882</td>\n",
       "      <td>10919039.0</td>\n",
       "      <td>6120596.0</td>\n",
       "      <td>1783983</td>\n",
       "    </tr>\n",
       "    <tr>\n",
       "      <th>4</th>\n",
       "      <td>Bangladesh</td>\n",
       "      <td>2045517</td>\n",
       "      <td>29477</td>\n",
       "      <td>1998448.0</td>\n",
       "      <td>17592.0</td>\n",
       "      <td>12184</td>\n",
       "      <td>176</td>\n",
       "      <td>15254399.0</td>\n",
       "      <td>90862.0</td>\n",
       "      <td>167885689</td>\n",
       "    </tr>\n",
       "    <tr>\n",
       "      <th>5</th>\n",
       "      <td>Bhutan</td>\n",
       "      <td>62697</td>\n",
       "      <td>21</td>\n",
       "      <td>61564.0</td>\n",
       "      <td>1112.0</td>\n",
       "      <td>79571</td>\n",
       "      <td>27</td>\n",
       "      <td>2303734.0</td>\n",
       "      <td>2923739.0</td>\n",
       "      <td>787941</td>\n",
       "    </tr>\n",
       "    <tr>\n",
       "      <th>6</th>\n",
       "      <td>Brunei</td>\n",
       "      <td>310522</td>\n",
       "      <td>225</td>\n",
       "      <td>243601.0</td>\n",
       "      <td>66696.0</td>\n",
       "      <td>697127</td>\n",
       "      <td>505</td>\n",
       "      <td>717784.0</td>\n",
       "      <td>1611437.0</td>\n",
       "      <td>445431</td>\n",
       "    </tr>\n",
       "    <tr>\n",
       "      <th>7</th>\n",
       "      <td>Cambodia</td>\n",
       "      <td>138940</td>\n",
       "      <td>3056</td>\n",
       "      <td>135884.0</td>\n",
       "      <td>0.0</td>\n",
       "      <td>8093</td>\n",
       "      <td>178</td>\n",
       "      <td>3091420.0</td>\n",
       "      <td>180062.0</td>\n",
       "      <td>17168639</td>\n",
       "    </tr>\n",
       "    <tr>\n",
       "      <th>8</th>\n",
       "      <td>China</td>\n",
       "      <td>503302</td>\n",
       "      <td>5272</td>\n",
       "      <td>379053.0</td>\n",
       "      <td>118977.0</td>\n",
       "      <td>347</td>\n",
       "      <td>4</td>\n",
       "      <td>160000000.0</td>\n",
       "      <td>110461.0</td>\n",
       "      <td>1448471400</td>\n",
       "    </tr>\n",
       "    <tr>\n",
       "      <th>9</th>\n",
       "      <td>Cyprus</td>\n",
       "      <td>660854</td>\n",
       "      <td>1364</td>\n",
       "      <td>659490.0</td>\n",
       "      <td>0.0</td>\n",
       "      <td>540184</td>\n",
       "      <td>1115</td>\n",
       "      <td>9640118.0</td>\n",
       "      <td>7879860.0</td>\n",
       "      <td>1223387</td>\n",
       "    </tr>\n",
       "  </tbody>\n",
       "</table>\n",
       "</div>"
      ],
      "text/plain": [
       "  Country/Other  Total Cases  Total Deaths  Total Recovered  Active Cases  \\\n",
       "0   Afghanistan       225850          7946         206436.0       11468.0   \n",
       "1       Armenia       449357          8751         435162.0        5444.0   \n",
       "2    Azerbaijan       832580         10302         822131.0         147.0   \n",
       "3       Bahrain       728053          1573         726036.0         444.0   \n",
       "4    Bangladesh      2045517         29477        1998448.0       17592.0   \n",
       "5        Bhutan        62697            21          61564.0        1112.0   \n",
       "6        Brunei       310522           225         243601.0       66696.0   \n",
       "7      Cambodia       138940          3056         135884.0           0.0   \n",
       "8         China       503302          5272         379053.0      118977.0   \n",
       "9        Cyprus       660854          1364         659490.0           0.0   \n",
       "\n",
       "   Tot Cases/ 1M pop  Deaths/ 1M pop  Total Tests  Tests/ 1M pop  Population  \n",
       "0               5542             195    1305526.0        32034.0    40754388  \n",
       "1             151199            2945    3242901.0      1091164.0     2971966  \n",
       "2              80831            1000    7680488.0       745664.0    10300205  \n",
       "3             408105             882   10919039.0      6120596.0     1783983  \n",
       "4              12184             176   15254399.0        90862.0   167885689  \n",
       "5              79571              27    2303734.0      2923739.0      787941  \n",
       "6             697127             505     717784.0      1611437.0      445431  \n",
       "7               8093             178    3091420.0       180062.0    17168639  \n",
       "8                347               4  160000000.0       110461.0  1448471400  \n",
       "9             540184            1115    9640118.0      7879860.0     1223387  "
      ]
     },
     "execution_count": 3,
     "metadata": {},
     "output_type": "execute_result"
    }
   ],
   "source": [
    "df.head(10)"
   ]
  },
  {
   "cell_type": "markdown",
   "id": "b3580d8f",
   "metadata": {},
   "source": [
    "Data Cleansing"
   ]
  },
  {
   "cell_type": "code",
   "execution_count": 4,
   "id": "cd620491",
   "metadata": {},
   "outputs": [
    {
     "name": "stdout",
     "output_type": "stream",
     "text": [
      "<class 'pandas.core.frame.DataFrame'>\n",
      "RangeIndex: 50 entries, 0 to 49\n",
      "Data columns (total 10 columns):\n",
      " #   Column             Non-Null Count  Dtype  \n",
      "---  ------             --------------  -----  \n",
      " 0   Country/Other      50 non-null     object \n",
      " 1   Total Cases        50 non-null     int64  \n",
      " 2   Total Deaths       50 non-null     int64  \n",
      " 3   Total Recovered    47 non-null     float64\n",
      " 4   Active Cases       47 non-null     float64\n",
      " 5   Tot Cases/ 1M pop  50 non-null     int64  \n",
      " 6   Deaths/ 1M pop     50 non-null     int64  \n",
      " 7   Total Tests        48 non-null     float64\n",
      " 8   Tests/ 1M pop      48 non-null     float64\n",
      " 9   Population         50 non-null     int64  \n",
      "dtypes: float64(4), int64(5), object(1)\n",
      "memory usage: 4.0+ KB\n"
     ]
    }
   ],
   "source": [
    "df.info()"
   ]
  },
  {
   "cell_type": "code",
   "execution_count": 5,
   "id": "5601d476",
   "metadata": {},
   "outputs": [
    {
     "data": {
      "text/html": [
       "<div>\n",
       "<style scoped>\n",
       "    .dataframe tbody tr th:only-of-type {\n",
       "        vertical-align: middle;\n",
       "    }\n",
       "\n",
       "    .dataframe tbody tr th {\n",
       "        vertical-align: top;\n",
       "    }\n",
       "\n",
       "    .dataframe thead th {\n",
       "        text-align: right;\n",
       "    }\n",
       "</style>\n",
       "<table border=\"1\" class=\"dataframe\">\n",
       "  <thead>\n",
       "    <tr style=\"text-align: right;\">\n",
       "      <th></th>\n",
       "      <th>Total Cases</th>\n",
       "      <th>Total Deaths</th>\n",
       "      <th>Total Recovered</th>\n",
       "      <th>Active Cases</th>\n",
       "      <th>Tot Cases/ 1M pop</th>\n",
       "      <th>Deaths/ 1M pop</th>\n",
       "      <th>Total Tests</th>\n",
       "      <th>Tests/ 1M pop</th>\n",
       "      <th>Population</th>\n",
       "    </tr>\n",
       "  </thead>\n",
       "  <tbody>\n",
       "    <tr>\n",
       "      <th>count</th>\n",
       "      <td>5.000000e+01</td>\n",
       "      <td>50.000000</td>\n",
       "      <td>4.700000e+01</td>\n",
       "      <td>47.000000</td>\n",
       "      <td>50.000000</td>\n",
       "      <td>50.000000</td>\n",
       "      <td>4.800000e+01</td>\n",
       "      <td>4.800000e+01</td>\n",
       "      <td>5.000000e+01</td>\n",
       "    </tr>\n",
       "    <tr>\n",
       "      <th>mean</th>\n",
       "      <td>4.414706e+06</td>\n",
       "      <td>30994.100000</td>\n",
       "      <td>3.532997e+06</td>\n",
       "      <td>43784.127660</td>\n",
       "      <td>160728.260000</td>\n",
       "      <td>700.580000</td>\n",
       "      <td>4.996582e+07</td>\n",
       "      <td>1.942359e+06</td>\n",
       "      <td>9.422714e+07</td>\n",
       "    </tr>\n",
       "    <tr>\n",
       "      <th>std</th>\n",
       "      <td>9.245461e+06</td>\n",
       "      <td>80053.019413</td>\n",
       "      <td>8.146371e+06</td>\n",
       "      <td>148478.340143</td>\n",
       "      <td>187123.306505</td>\n",
       "      <td>777.336402</td>\n",
       "      <td>1.379085e+08</td>\n",
       "      <td>3.412930e+06</td>\n",
       "      <td>2.809444e+08</td>\n",
       "    </tr>\n",
       "    <tr>\n",
       "      <th>min</th>\n",
       "      <td>1.194500e+04</td>\n",
       "      <td>21.000000</td>\n",
       "      <td>3.487000e+03</td>\n",
       "      <td>0.000000</td>\n",
       "      <td>347.000000</td>\n",
       "      <td>3.000000</td>\n",
       "      <td>7.850000e+03</td>\n",
       "      <td>7.553000e+03</td>\n",
       "      <td>4.454310e+05</td>\n",
       "    </tr>\n",
       "    <tr>\n",
       "      <th>25%</th>\n",
       "      <td>3.327538e+05</td>\n",
       "      <td>1946.000000</td>\n",
       "      <td>3.113270e+05</td>\n",
       "      <td>189.500000</td>\n",
       "      <td>24567.500000</td>\n",
       "      <td>186.750000</td>\n",
       "      <td>3.088198e+06</td>\n",
       "      <td>2.034480e+05</td>\n",
       "      <td>5.329380e+06</td>\n",
       "    </tr>\n",
       "    <tr>\n",
       "      <th>50%</th>\n",
       "      <td>9.224515e+05</td>\n",
       "      <td>9198.500000</td>\n",
       "      <td>8.279230e+05</td>\n",
       "      <td>3630.000000</td>\n",
       "      <td>80201.000000</td>\n",
       "      <td>542.500000</td>\n",
       "      <td>1.140595e+07</td>\n",
       "      <td>6.918590e+05</td>\n",
       "      <td>1.818684e+07</td>\n",
       "    </tr>\n",
       "    <tr>\n",
       "      <th>75%</th>\n",
       "      <td>3.860411e+06</td>\n",
       "      <td>23905.000000</td>\n",
       "      <td>2.670878e+06</td>\n",
       "      <td>14034.500000</td>\n",
       "      <td>197419.250000</td>\n",
       "      <td>878.750000</td>\n",
       "      <td>3.708760e+07</td>\n",
       "      <td>1.909137e+06</td>\n",
       "      <td>4.903867e+07</td>\n",
       "    </tr>\n",
       "    <tr>\n",
       "      <th>max</th>\n",
       "      <td>4.499829e+07</td>\n",
       "      <td>531930.000000</td>\n",
       "      <td>4.446578e+07</td>\n",
       "      <td>939553.000000</td>\n",
       "      <td>697127.000000</td>\n",
       "      <td>4317.000000</td>\n",
       "      <td>9.307980e+08</td>\n",
       "      <td>1.991039e+07</td>\n",
       "      <td>1.448471e+09</td>\n",
       "    </tr>\n",
       "  </tbody>\n",
       "</table>\n",
       "</div>"
      ],
      "text/plain": [
       "        Total Cases   Total Deaths  Total Recovered   Active Cases  \\\n",
       "count  5.000000e+01      50.000000     4.700000e+01      47.000000   \n",
       "mean   4.414706e+06   30994.100000     3.532997e+06   43784.127660   \n",
       "std    9.245461e+06   80053.019413     8.146371e+06  148478.340143   \n",
       "min    1.194500e+04      21.000000     3.487000e+03       0.000000   \n",
       "25%    3.327538e+05    1946.000000     3.113270e+05     189.500000   \n",
       "50%    9.224515e+05    9198.500000     8.279230e+05    3630.000000   \n",
       "75%    3.860411e+06   23905.000000     2.670878e+06   14034.500000   \n",
       "max    4.499829e+07  531930.000000     4.446578e+07  939553.000000   \n",
       "\n",
       "       Tot Cases/ 1M pop  Deaths/ 1M pop   Total Tests  Tests/ 1M pop  \\\n",
       "count          50.000000       50.000000  4.800000e+01   4.800000e+01   \n",
       "mean       160728.260000      700.580000  4.996582e+07   1.942359e+06   \n",
       "std        187123.306505      777.336402  1.379085e+08   3.412930e+06   \n",
       "min           347.000000        3.000000  7.850000e+03   7.553000e+03   \n",
       "25%         24567.500000      186.750000  3.088198e+06   2.034480e+05   \n",
       "50%         80201.000000      542.500000  1.140595e+07   6.918590e+05   \n",
       "75%        197419.250000      878.750000  3.708760e+07   1.909137e+06   \n",
       "max        697127.000000     4317.000000  9.307980e+08   1.991039e+07   \n",
       "\n",
       "         Population  \n",
       "count  5.000000e+01  \n",
       "mean   9.422714e+07  \n",
       "std    2.809444e+08  \n",
       "min    4.454310e+05  \n",
       "25%    5.329380e+06  \n",
       "50%    1.818684e+07  \n",
       "75%    4.903867e+07  \n",
       "max    1.448471e+09  "
      ]
     },
     "execution_count": 5,
     "metadata": {},
     "output_type": "execute_result"
    }
   ],
   "source": [
    "df.describe()"
   ]
  },
  {
   "cell_type": "code",
   "execution_count": 6,
   "id": "86701b56",
   "metadata": {},
   "outputs": [
    {
     "data": {
      "image/png": "[encoded data removed]",
      "text/plain": [
       "<Figure size 640x480 with 1 Axes>"
      ]
     },
     "metadata": {},
     "output_type": "display_data"
    }
   ],
   "source": [
    "df['Active Cases'].plot(kind='hist');"
   ]
  },
  {
   "cell_type": "markdown",
   "id": "92f5f7b7",
   "metadata": {},
   "source": [
    "Because column Active Cases is a skewness distributed\n",
    "\n",
    "Doing Imputation for column Active Cases with median"
   ]
  },
  {
   "cell_type": "code",
   "execution_count": 7,
   "id": "76a49e0b",
   "metadata": {},
   "outputs": [],
   "source": [
    "val = df['Active Cases'].median()\n",
    "df['Active Cases'] = df['Active Cases'].fillna(val)"
   ]
  },
  {
   "cell_type": "code",
   "execution_count": 8,
   "id": "b763aef6",
   "metadata": {},
   "outputs": [
    {
     "name": "stdout",
     "output_type": "stream",
     "text": [
      "<class 'pandas.core.frame.DataFrame'>\n",
      "RangeIndex: 50 entries, 0 to 49\n",
      "Data columns (total 10 columns):\n",
      " #   Column             Non-Null Count  Dtype  \n",
      "---  ------             --------------  -----  \n",
      " 0   Country/Other      50 non-null     object \n",
      " 1   Total Cases        50 non-null     int64  \n",
      " 2   Total Deaths       50 non-null     int64  \n",
      " 3   Total Recovered    47 non-null     float64\n",
      " 4   Active Cases       50 non-null     float64\n",
      " 5   Tot Cases/ 1M pop  50 non-null     int64  \n",
      " 6   Deaths/ 1M pop     50 non-null     int64  \n",
      " 7   Total Tests        48 non-null     float64\n",
      " 8   Tests/ 1M pop      48 non-null     float64\n",
      " 9   Population         50 non-null     int64  \n",
      "dtypes: float64(4), int64(5), object(1)\n",
      "memory usage: 4.0+ KB\n"
     ]
    }
   ],
   "source": [
    "df.info()"
   ]
  },
  {
   "cell_type": "code",
   "execution_count": 9,
   "id": "24ea50ac",
   "metadata": {},
   "outputs": [],
   "source": [
    "df = pd.read_csv('netflix.csv')"
   ]
  },
  {
   "cell_type": "code",
   "execution_count": 10,
   "id": "d63d4217",
   "metadata": {},
   "outputs": [
    {
     "data": {
      "text/html": [
       "<div>\n",
       "<style scoped>\n",
       "    .dataframe tbody tr th:only-of-type {\n",
       "        vertical-align: middle;\n",
       "    }\n",
       "\n",
       "    .dataframe tbody tr th {\n",
       "        vertical-align: top;\n",
       "    }\n",
       "\n",
       "    .dataframe thead th {\n",
       "        text-align: right;\n",
       "    }\n",
       "</style>\n",
       "<table border=\"1\" class=\"dataframe\">\n",
       "  <thead>\n",
       "    <tr style=\"text-align: right;\">\n",
       "      <th></th>\n",
       "      <th>show_id</th>\n",
       "      <th>type</th>\n",
       "      <th>title</th>\n",
       "      <th>director</th>\n",
       "      <th>cast</th>\n",
       "      <th>country</th>\n",
       "      <th>date_added</th>\n",
       "      <th>release_year</th>\n",
       "      <th>rating</th>\n",
       "      <th>duration</th>\n",
       "      <th>listed_in</th>\n",
       "      <th>description</th>\n",
       "    </tr>\n",
       "  </thead>\n",
       "  <tbody>\n",
       "    <tr>\n",
       "      <th>0</th>\n",
       "      <td>s1</td>\n",
       "      <td>Movie</td>\n",
       "      <td>Dick Johnson Is Dead</td>\n",
       "      <td>Kirsten Johnson</td>\n",
       "      <td>NaN</td>\n",
       "      <td>United States</td>\n",
       "      <td>September 25, 2021</td>\n",
       "      <td>2020</td>\n",
       "      <td>PG-13</td>\n",
       "      <td>90 min</td>\n",
       "      <td>Documentaries</td>\n",
       "      <td>As her father nears the end of his life, filmm...</td>\n",
       "    </tr>\n",
       "    <tr>\n",
       "      <th>1</th>\n",
       "      <td>s2</td>\n",
       "      <td>TV Show</td>\n",
       "      <td>Blood &amp; Water</td>\n",
       "      <td>NaN</td>\n",
       "      <td>Ama Qamata, Khosi Ngema, Gail Mabalane, Thaban...</td>\n",
       "      <td>South Africa</td>\n",
       "      <td>September 24, 2021</td>\n",
       "      <td>2021</td>\n",
       "      <td>TV-MA</td>\n",
       "      <td>2 Seasons</td>\n",
       "      <td>International TV Shows, TV Dramas, TV Mysteries</td>\n",
       "      <td>After crossing paths at a party, a Cape Town t...</td>\n",
       "    </tr>\n",
       "    <tr>\n",
       "      <th>2</th>\n",
       "      <td>s3</td>\n",
       "      <td>TV Show</td>\n",
       "      <td>Ganglands</td>\n",
       "      <td>Julien Leclercq</td>\n",
       "      <td>Sami Bouajila, Tracy Gotoas, Samuel Jouy, Nabi...</td>\n",
       "      <td>NaN</td>\n",
       "      <td>September 24, 2021</td>\n",
       "      <td>2021</td>\n",
       "      <td>TV-MA</td>\n",
       "      <td>1 Season</td>\n",
       "      <td>Crime TV Shows, International TV Shows, TV Act...</td>\n",
       "      <td>To protect his family from a powerful drug lor...</td>\n",
       "    </tr>\n",
       "    <tr>\n",
       "      <th>3</th>\n",
       "      <td>s4</td>\n",
       "      <td>TV Show</td>\n",
       "      <td>Jailbirds New Orleans</td>\n",
       "      <td>NaN</td>\n",
       "      <td>NaN</td>\n",
       "      <td>NaN</td>\n",
       "      <td>September 24, 2021</td>\n",
       "      <td>2021</td>\n",
       "      <td>TV-MA</td>\n",
       "      <td>1 Season</td>\n",
       "      <td>Docuseries, Reality TV</td>\n",
       "      <td>Feuds, flirtations and toilet talk go down amo...</td>\n",
       "    </tr>\n",
       "    <tr>\n",
       "      <th>4</th>\n",
       "      <td>s5</td>\n",
       "      <td>TV Show</td>\n",
       "      <td>Kota Factory</td>\n",
       "      <td>NaN</td>\n",
       "      <td>Mayur More, Jitendra Kumar, Ranjan Raj, Alam K...</td>\n",
       "      <td>India</td>\n",
       "      <td>September 24, 2021</td>\n",
       "      <td>2021</td>\n",
       "      <td>TV-MA</td>\n",
       "      <td>2 Seasons</td>\n",
       "      <td>International TV Shows, Romantic TV Shows, TV ...</td>\n",
       "      <td>In a city of coaching centers known to train I...</td>\n",
       "    </tr>\n",
       "  </tbody>\n",
       "</table>\n",
       "</div>"
      ],
      "text/plain": [
       "  show_id     type                  title         director  \\\n",
       "0      s1    Movie   Dick Johnson Is Dead  Kirsten Johnson   \n",
       "1      s2  TV Show          Blood & Water              NaN   \n",
       "2      s3  TV Show              Ganglands  Julien Leclercq   \n",
       "3      s4  TV Show  Jailbirds New Orleans              NaN   \n",
       "4      s5  TV Show           Kota Factory              NaN   \n",
       "\n",
       "                                                cast        country  \\\n",
       "0                                                NaN  United States   \n",
       "1  Ama Qamata, Khosi Ngema, Gail Mabalane, Thaban...   South Africa   \n",
       "2  Sami Bouajila, Tracy Gotoas, Samuel Jouy, Nabi...            NaN   \n",
       "3                                                NaN            NaN   \n",
       "4  Mayur More, Jitendra Kumar, Ranjan Raj, Alam K...          India   \n",
       "\n",
       "           date_added  release_year rating   duration  \\\n",
       "0  September 25, 2021          2020  PG-13     90 min   \n",
       "1  September 24, 2021          2021  TV-MA  2 Seasons   \n",
       "2  September 24, 2021          2021  TV-MA   1 Season   \n",
       "3  September 24, 2021          2021  TV-MA   1 Season   \n",
       "4  September 24, 2021          2021  TV-MA  2 Seasons   \n",
       "\n",
       "                                           listed_in  \\\n",
       "0                                      Documentaries   \n",
       "1    International TV Shows, TV Dramas, TV Mysteries   \n",
       "2  Crime TV Shows, International TV Shows, TV Act...   \n",
       "3                             Docuseries, Reality TV   \n",
       "4  International TV Shows, Romantic TV Shows, TV ...   \n",
       "\n",
       "                                         description  \n",
       "0  As her father nears the end of his life, filmm...  \n",
       "1  After crossing paths at a party, a Cape Town t...  \n",
       "2  To protect his family from a powerful drug lor...  \n",
       "3  Feuds, flirtations and toilet talk go down amo...  \n",
       "4  In a city of coaching centers known to train I...  "
      ]
     },
     "execution_count": 10,
     "metadata": {},
     "output_type": "execute_result"
    }
   ],
   "source": [
    "df.head()"
   ]
  },
  {
   "cell_type": "code",
   "execution_count": 11,
   "id": "d34743fc",
   "metadata": {},
   "outputs": [
    {
     "data": {
      "text/plain": [
       "4528"
      ]
     },
     "execution_count": 11,
     "metadata": {},
     "output_type": "execute_result"
    }
   ],
   "source": [
    "df.director.nunique()"
   ]
  },
  {
   "cell_type": "code",
   "execution_count": 12,
   "id": "38a26876",
   "metadata": {},
   "outputs": [
    {
     "name": "stdout",
     "output_type": "stream",
     "text": [
      "<class 'pandas.core.frame.DataFrame'>\n",
      "RangeIndex: 8807 entries, 0 to 8806\n",
      "Data columns (total 12 columns):\n",
      " #   Column        Non-Null Count  Dtype \n",
      "---  ------        --------------  ----- \n",
      " 0   show_id       8807 non-null   object\n",
      " 1   type          8807 non-null   object\n",
      " 2   title         8807 non-null   object\n",
      " 3   director      6173 non-null   object\n",
      " 4   cast          7982 non-null   object\n",
      " 5   country       7976 non-null   object\n",
      " 6   date_added    8797 non-null   object\n",
      " 7   release_year  8807 non-null   int64 \n",
      " 8   rating        8803 non-null   object\n",
      " 9   duration      8804 non-null   object\n",
      " 10  listed_in     8807 non-null   object\n",
      " 11  description   8807 non-null   object\n",
      "dtypes: int64(1), object(11)\n",
      "memory usage: 825.8+ KB\n"
     ]
    }
   ],
   "source": [
    "df.info()"
   ]
  },
  {
   "cell_type": "markdown",
   "id": "6a73beb2",
   "metadata": {},
   "source": [
    "Total Column"
   ]
  },
  {
   "cell_type": "code",
   "execution_count": 13,
   "id": "8dec6047",
   "metadata": {},
   "outputs": [
    {
     "data": {
      "text/plain": [
       "8807"
      ]
     },
     "execution_count": 13,
     "metadata": {},
     "output_type": "execute_result"
    }
   ],
   "source": [
    "df.shape[0]"
   ]
  },
  {
   "cell_type": "markdown",
   "id": "2ba3a3c4",
   "metadata": {},
   "source": [
    "Total Missing Value in column director"
   ]
  },
  {
   "cell_type": "code",
   "execution_count": 14,
   "id": "144bcc72",
   "metadata": {},
   "outputs": [
    {
     "data": {
      "text/plain": [
       "2634"
      ]
     },
     "execution_count": 14,
     "metadata": {},
     "output_type": "execute_result"
    }
   ],
   "source": [
    "df['director'].isna().sum()"
   ]
  },
  {
   "cell_type": "markdown",
   "id": "494df073",
   "metadata": {},
   "source": [
    "Percentage of Missing Value in column director"
   ]
  },
  {
   "cell_type": "code",
   "execution_count": 15,
   "id": "7463ed77",
   "metadata": {},
   "outputs": [
    {
     "data": {
      "text/plain": [
       "0.29908027705234475"
      ]
     },
     "execution_count": 15,
     "metadata": {},
     "output_type": "execute_result"
    }
   ],
   "source": [
    "df['director'].isna().sum()/df.shape[0]"
   ]
  },
  {
   "cell_type": "code",
   "execution_count": 16,
   "id": "88546bb6",
   "metadata": {},
   "outputs": [
    {
     "data": {
      "text/plain": [
       "director\n",
       "Rajiv Chilaka                     19\n",
       "Raúl Campos, Jan Suter            18\n",
       "Marcus Raboy                      16\n",
       "Suhas Kadav                       16\n",
       "Jay Karas                         14\n",
       "                                  ..\n",
       "Raymie Muzquiz, Stu Livingston     1\n",
       "Joe Menendez                       1\n",
       "Eric Bross                         1\n",
       "Will Eisenberg                     1\n",
       "Mozez Singh                        1\n",
       "Name: count, Length: 4528, dtype: int64"
      ]
     },
     "execution_count": 16,
     "metadata": {},
     "output_type": "execute_result"
    }
   ],
   "source": [
    "df.director.value_counts()"
   ]
  },
  {
   "cell_type": "markdown",
   "id": "581bad5d",
   "metadata": {},
   "source": [
    "Total Missing Value in column rating"
   ]
  },
  {
   "cell_type": "code",
   "execution_count": 17,
   "id": "7f803cf4",
   "metadata": {},
   "outputs": [
    {
     "data": {
      "text/plain": [
       "4"
      ]
     },
     "execution_count": 17,
     "metadata": {},
     "output_type": "execute_result"
    }
   ],
   "source": [
    "df['rating'].isna().sum()"
   ]
  },
  {
   "cell_type": "markdown",
   "id": "926cfbd4",
   "metadata": {},
   "source": [
    "display the proportion of the rating column data\n",
    "\n",
    "it turns out that the column is categorical"
   ]
  },
  {
   "cell_type": "code",
   "execution_count": 18,
   "id": "c50cf2fd",
   "metadata": {},
   "outputs": [
    {
     "data": {
      "text/plain": [
       "rating\n",
       "TV-MA       3207\n",
       "TV-14       2160\n",
       "TV-PG        863\n",
       "R            799\n",
       "PG-13        490\n",
       "TV-Y7        334\n",
       "TV-Y         307\n",
       "PG           287\n",
       "TV-G         220\n",
       "NR            80\n",
       "G             41\n",
       "TV-Y7-FV       6\n",
       "NC-17          3\n",
       "UR             3\n",
       "74 min         1\n",
       "84 min         1\n",
       "66 min         1\n",
       "Name: count, dtype: int64"
      ]
     },
     "execution_count": 18,
     "metadata": {},
     "output_type": "execute_result"
    }
   ],
   "source": [
    "df.rating.value_counts()"
   ]
  },
  {
   "cell_type": "markdown",
   "id": "022c4bf3",
   "metadata": {},
   "source": [
    "Because the rating column is categorical, the imputation uses mode\n",
    "\n",
    "From the column rating proportion, TV-MA is the data that appears most frequently, so TV-MA is the mode"
   ]
  },
  {
   "cell_type": "code",
   "execution_count": 19,
   "id": "2b2f5989",
   "metadata": {},
   "outputs": [],
   "source": [
    "val = df.rating.mode().values[0]\n",
    "df[\"rating\"] = df.rating.fillna(val)"
   ]
  },
  {
   "cell_type": "markdown",
   "id": "488b5309",
   "metadata": {},
   "source": [
    "After imputation, it can be seen that the proportions have changed"
   ]
  },
  {
   "cell_type": "code",
   "execution_count": 20,
   "id": "b936c301",
   "metadata": {},
   "outputs": [
    {
     "data": {
      "text/plain": [
       "rating\n",
       "TV-MA       3211\n",
       "TV-14       2160\n",
       "TV-PG        863\n",
       "R            799\n",
       "PG-13        490\n",
       "TV-Y7        334\n",
       "TV-Y         307\n",
       "PG           287\n",
       "TV-G         220\n",
       "NR            80\n",
       "G             41\n",
       "TV-Y7-FV       6\n",
       "NC-17          3\n",
       "UR             3\n",
       "74 min         1\n",
       "84 min         1\n",
       "66 min         1\n",
       "Name: count, dtype: int64"
      ]
     },
     "execution_count": 20,
     "metadata": {},
     "output_type": "execute_result"
    }
   ],
   "source": [
    "df.rating.value_counts()"
   ]
  },
  {
   "cell_type": "code",
   "execution_count": 21,
   "id": "a0973b03",
   "metadata": {},
   "outputs": [
    {
     "data": {
      "text/plain": [
       "0"
      ]
     },
     "execution_count": 21,
     "metadata": {},
     "output_type": "execute_result"
    }
   ],
   "source": [
    "df.rating.isna().sum()"
   ]
  },
  {
   "cell_type": "markdown",
   "id": "295f2401",
   "metadata": {},
   "source": [
    "Perform data manipulation\n",
    "\n",
    "It is not intended to change the value of data but to make the data easier to read by machines\n",
    "\n",
    "below will display a new column namely \"Release_Status\" which depends on the value of the \"release_year\" column"
   ]
  },
  {
   "cell_type": "code",
   "execution_count": 22,
   "id": "0009603e",
   "metadata": {},
   "outputs": [],
   "source": [
    "df[\"Release_Status\"]=df[\"release_year\"]"
   ]
  },
  {
   "cell_type": "code",
   "execution_count": 23,
   "id": "c7ddc023",
   "metadata": {},
   "outputs": [
    {
     "name": "stderr",
     "output_type": "stream",
     "text": [
      "/var/folders/g4/ncnxfc412lz8ndg82gqtr33c0000gn/T/ipykernel_3947/618103642.py:1: SettingWithCopyWarning: \n",
      "A value is trying to be set on a copy of a slice from a DataFrame\n",
      "\n",
      "See the caveats in the documentation: https://pandas.pydata.org/pandas-docs/stable/user_guide/indexing.html#returning-a-view-versus-a-copy\n",
      "  df[\"Release_Status\"][df[\"Release_Status\"]>=2020]=\"New Release\"\n",
      "/var/folders/g4/ncnxfc412lz8ndg82gqtr33c0000gn/T/ipykernel_3947/618103642.py:1: FutureWarning: Setting an item of incompatible dtype is deprecated and will raise in a future error of pandas. Value 'New Release' has dtype incompatible with int64, please explicitly cast to a compatible dtype first.\n",
      "  df[\"Release_Status\"][df[\"Release_Status\"]>=2020]=\"New Release\"\n"
     ]
    },
    {
     "ename": "TypeError",
     "evalue": "'<' not supported between instances of 'str' and 'int'",
     "output_type": "error",
     "traceback": [
      "\u001b[0;31m---------------------------------------------------------------------------\u001b[0m",
      "\u001b[0;31mTypeError\u001b[0m                                 Traceback (most recent call last)",
      "Cell \u001b[0;32mIn[23], line 2\u001b[0m\n\u001b[1;32m      1\u001b[0m df[\u001b[38;5;124m\"\u001b[39m\u001b[38;5;124mRelease_Status\u001b[39m\u001b[38;5;124m\"\u001b[39m][df[\u001b[38;5;124m\"\u001b[39m\u001b[38;5;124mRelease_Status\u001b[39m\u001b[38;5;124m\"\u001b[39m]\u001b[38;5;241m>\u001b[39m\u001b[38;5;241m=\u001b[39m\u001b[38;5;241m2020\u001b[39m]\u001b[38;5;241m=\u001b[39m\u001b[38;5;124m\"\u001b[39m\u001b[38;5;124mNew Release\u001b[39m\u001b[38;5;124m\"\u001b[39m\n\u001b[0;32m----> 2\u001b[0m df[\u001b[38;5;124m\"\u001b[39m\u001b[38;5;124mRelease_Status\u001b[39m\u001b[38;5;124m\"\u001b[39m][df[\u001b[38;5;124m\"\u001b[39m\u001b[38;5;124mRelease_Status\u001b[39m\u001b[38;5;124m\"\u001b[39m]\u001b[38;5;241m<\u001b[39m\u001b[38;5;241m2020\u001b[39m]\u001b[38;5;241m=\u001b[39m\u001b[38;5;124m\"\u001b[39m\u001b[38;5;124mNot New Release\u001b[39m\u001b[38;5;124m\"\u001b[39m\n",
      "File \u001b[0;32m/opt/anaconda3/lib/python3.11/site-packages/pandas/core/ops/common.py:76\u001b[0m, in \u001b[0;36m_unpack_zerodim_and_defer.<locals>.new_method\u001b[0;34m(self, other)\u001b[0m\n\u001b[1;32m     72\u001b[0m             \u001b[38;5;28;01mreturn\u001b[39;00m \u001b[38;5;28mNotImplemented\u001b[39m\n\u001b[1;32m     74\u001b[0m other \u001b[38;5;241m=\u001b[39m item_from_zerodim(other)\n\u001b[0;32m---> 76\u001b[0m \u001b[38;5;28;01mreturn\u001b[39;00m method(\u001b[38;5;28mself\u001b[39m, other)\n",
      "File \u001b[0;32m/opt/anaconda3/lib/python3.11/site-packages/pandas/core/arraylike.py:48\u001b[0m, in \u001b[0;36mOpsMixin.__lt__\u001b[0;34m(self, other)\u001b[0m\n\u001b[1;32m     46\u001b[0m \u001b[38;5;129m@unpack_zerodim_and_defer\u001b[39m(\u001b[38;5;124m\"\u001b[39m\u001b[38;5;124m__lt__\u001b[39m\u001b[38;5;124m\"\u001b[39m)\n\u001b[1;32m     47\u001b[0m \u001b[38;5;28;01mdef\u001b[39;00m \u001b[38;5;21m__lt__\u001b[39m(\u001b[38;5;28mself\u001b[39m, other):\n\u001b[0;32m---> 48\u001b[0m     \u001b[38;5;28;01mreturn\u001b[39;00m \u001b[38;5;28mself\u001b[39m\u001b[38;5;241m.\u001b[39m_cmp_method(other, operator\u001b[38;5;241m.\u001b[39mlt)\n",
      "File \u001b[0;32m/opt/anaconda3/lib/python3.11/site-packages/pandas/core/series.py:5803\u001b[0m, in \u001b[0;36mSeries._cmp_method\u001b[0;34m(self, other, op)\u001b[0m\n\u001b[1;32m   5800\u001b[0m lvalues \u001b[38;5;241m=\u001b[39m \u001b[38;5;28mself\u001b[39m\u001b[38;5;241m.\u001b[39m_values\n\u001b[1;32m   5801\u001b[0m rvalues \u001b[38;5;241m=\u001b[39m extract_array(other, extract_numpy\u001b[38;5;241m=\u001b[39m\u001b[38;5;28;01mTrue\u001b[39;00m, extract_range\u001b[38;5;241m=\u001b[39m\u001b[38;5;28;01mTrue\u001b[39;00m)\n\u001b[0;32m-> 5803\u001b[0m res_values \u001b[38;5;241m=\u001b[39m ops\u001b[38;5;241m.\u001b[39mcomparison_op(lvalues, rvalues, op)\n\u001b[1;32m   5805\u001b[0m \u001b[38;5;28;01mreturn\u001b[39;00m \u001b[38;5;28mself\u001b[39m\u001b[38;5;241m.\u001b[39m_construct_result(res_values, name\u001b[38;5;241m=\u001b[39mres_name)\n",
      "File \u001b[0;32m/opt/anaconda3/lib/python3.11/site-packages/pandas/core/ops/array_ops.py:346\u001b[0m, in \u001b[0;36mcomparison_op\u001b[0;34m(left, right, op)\u001b[0m\n\u001b[1;32m    343\u001b[0m     \u001b[38;5;28;01mreturn\u001b[39;00m invalid_comparison(lvalues, rvalues, op)\n\u001b[1;32m    345\u001b[0m \u001b[38;5;28;01melif\u001b[39;00m lvalues\u001b[38;5;241m.\u001b[39mdtype \u001b[38;5;241m==\u001b[39m \u001b[38;5;28mobject\u001b[39m \u001b[38;5;129;01mor\u001b[39;00m \u001b[38;5;28misinstance\u001b[39m(rvalues, \u001b[38;5;28mstr\u001b[39m):\n\u001b[0;32m--> 346\u001b[0m     res_values \u001b[38;5;241m=\u001b[39m comp_method_OBJECT_ARRAY(op, lvalues, rvalues)\n\u001b[1;32m    348\u001b[0m \u001b[38;5;28;01melse\u001b[39;00m:\n\u001b[1;32m    349\u001b[0m     res_values \u001b[38;5;241m=\u001b[39m _na_arithmetic_op(lvalues, rvalues, op, is_cmp\u001b[38;5;241m=\u001b[39m\u001b[38;5;28;01mTrue\u001b[39;00m)\n",
      "File \u001b[0;32m/opt/anaconda3/lib/python3.11/site-packages/pandas/core/ops/array_ops.py:131\u001b[0m, in \u001b[0;36mcomp_method_OBJECT_ARRAY\u001b[0;34m(op, x, y)\u001b[0m\n\u001b[1;32m    129\u001b[0m     result \u001b[38;5;241m=\u001b[39m libops\u001b[38;5;241m.\u001b[39mvec_compare(x\u001b[38;5;241m.\u001b[39mravel(), y\u001b[38;5;241m.\u001b[39mravel(), op)\n\u001b[1;32m    130\u001b[0m \u001b[38;5;28;01melse\u001b[39;00m:\n\u001b[0;32m--> 131\u001b[0m     result \u001b[38;5;241m=\u001b[39m libops\u001b[38;5;241m.\u001b[39mscalar_compare(x\u001b[38;5;241m.\u001b[39mravel(), y, op)\n\u001b[1;32m    132\u001b[0m \u001b[38;5;28;01mreturn\u001b[39;00m result\u001b[38;5;241m.\u001b[39mreshape(x\u001b[38;5;241m.\u001b[39mshape)\n",
      "File \u001b[0;32mops.pyx:107\u001b[0m, in \u001b[0;36mpandas._libs.ops.scalar_compare\u001b[0;34m()\u001b[0m\n",
      "\u001b[0;31mTypeError\u001b[0m: '<' not supported between instances of 'str' and 'int'"
     ]
    }
   ],
   "source": [
    "df[\"Release_Status\"][df[\"Release_Status\"]>=2020]=\"New Release\"\n",
    "df[\"Release_Status\"][df[\"Release_Status\"]<2020]=\"Not New Release\""
   ]
  },
  {
   "cell_type": "code",
   "execution_count": 24,
   "id": "708eef35",
   "metadata": {},
   "outputs": [
    {
     "data": {
      "text/html": [
       "<div>\n",
       "<style scoped>\n",
       "    .dataframe tbody tr th:only-of-type {\n",
       "        vertical-align: middle;\n",
       "    }\n",
       "\n",
       "    .dataframe tbody tr th {\n",
       "        vertical-align: top;\n",
       "    }\n",
       "\n",
       "    .dataframe thead th {\n",
       "        text-align: right;\n",
       "    }\n",
       "</style>\n",
       "<table border=\"1\" class=\"dataframe\">\n",
       "  <thead>\n",
       "    <tr style=\"text-align: right;\">\n",
       "      <th></th>\n",
       "      <th>show_id</th>\n",
       "      <th>type</th>\n",
       "      <th>title</th>\n",
       "      <th>director</th>\n",
       "      <th>cast</th>\n",
       "      <th>country</th>\n",
       "      <th>date_added</th>\n",
       "      <th>release_year</th>\n",
       "      <th>rating</th>\n",
       "      <th>duration</th>\n",
       "      <th>listed_in</th>\n",
       "      <th>description</th>\n",
       "      <th>Release_Status</th>\n",
       "    </tr>\n",
       "  </thead>\n",
       "  <tbody>\n",
       "    <tr>\n",
       "      <th>0</th>\n",
       "      <td>s1</td>\n",
       "      <td>Movie</td>\n",
       "      <td>Dick Johnson Is Dead</td>\n",
       "      <td>Kirsten Johnson</td>\n",
       "      <td>NaN</td>\n",
       "      <td>United States</td>\n",
       "      <td>September 25, 2021</td>\n",
       "      <td>2020</td>\n",
       "      <td>PG-13</td>\n",
       "      <td>90 min</td>\n",
       "      <td>Documentaries</td>\n",
       "      <td>As her father nears the end of his life, filmm...</td>\n",
       "      <td>New Release</td>\n",
       "    </tr>\n",
       "    <tr>\n",
       "      <th>1</th>\n",
       "      <td>s2</td>\n",
       "      <td>TV Show</td>\n",
       "      <td>Blood &amp; Water</td>\n",
       "      <td>NaN</td>\n",
       "      <td>Ama Qamata, Khosi Ngema, Gail Mabalane, Thaban...</td>\n",
       "      <td>South Africa</td>\n",
       "      <td>September 24, 2021</td>\n",
       "      <td>2021</td>\n",
       "      <td>TV-MA</td>\n",
       "      <td>2 Seasons</td>\n",
       "      <td>International TV Shows, TV Dramas, TV Mysteries</td>\n",
       "      <td>After crossing paths at a party, a Cape Town t...</td>\n",
       "      <td>New Release</td>\n",
       "    </tr>\n",
       "    <tr>\n",
       "      <th>2</th>\n",
       "      <td>s3</td>\n",
       "      <td>TV Show</td>\n",
       "      <td>Ganglands</td>\n",
       "      <td>Julien Leclercq</td>\n",
       "      <td>Sami Bouajila, Tracy Gotoas, Samuel Jouy, Nabi...</td>\n",
       "      <td>NaN</td>\n",
       "      <td>September 24, 2021</td>\n",
       "      <td>2021</td>\n",
       "      <td>TV-MA</td>\n",
       "      <td>1 Season</td>\n",
       "      <td>Crime TV Shows, International TV Shows, TV Act...</td>\n",
       "      <td>To protect his family from a powerful drug lor...</td>\n",
       "      <td>New Release</td>\n",
       "    </tr>\n",
       "    <tr>\n",
       "      <th>3</th>\n",
       "      <td>s4</td>\n",
       "      <td>TV Show</td>\n",
       "      <td>Jailbirds New Orleans</td>\n",
       "      <td>NaN</td>\n",
       "      <td>NaN</td>\n",
       "      <td>NaN</td>\n",
       "      <td>September 24, 2021</td>\n",
       "      <td>2021</td>\n",
       "      <td>TV-MA</td>\n",
       "      <td>1 Season</td>\n",
       "      <td>Docuseries, Reality TV</td>\n",
       "      <td>Feuds, flirtations and toilet talk go down amo...</td>\n",
       "      <td>New Release</td>\n",
       "    </tr>\n",
       "    <tr>\n",
       "      <th>4</th>\n",
       "      <td>s5</td>\n",
       "      <td>TV Show</td>\n",
       "      <td>Kota Factory</td>\n",
       "      <td>NaN</td>\n",
       "      <td>Mayur More, Jitendra Kumar, Ranjan Raj, Alam K...</td>\n",
       "      <td>India</td>\n",
       "      <td>September 24, 2021</td>\n",
       "      <td>2021</td>\n",
       "      <td>TV-MA</td>\n",
       "      <td>2 Seasons</td>\n",
       "      <td>International TV Shows, Romantic TV Shows, TV ...</td>\n",
       "      <td>In a city of coaching centers known to train I...</td>\n",
       "      <td>New Release</td>\n",
       "    </tr>\n",
       "  </tbody>\n",
       "</table>\n",
       "</div>"
      ],
      "text/plain": [
       "  show_id     type                  title         director  \\\n",
       "0      s1    Movie   Dick Johnson Is Dead  Kirsten Johnson   \n",
       "1      s2  TV Show          Blood & Water              NaN   \n",
       "2      s3  TV Show              Ganglands  Julien Leclercq   \n",
       "3      s4  TV Show  Jailbirds New Orleans              NaN   \n",
       "4      s5  TV Show           Kota Factory              NaN   \n",
       "\n",
       "                                                cast        country  \\\n",
       "0                                                NaN  United States   \n",
       "1  Ama Qamata, Khosi Ngema, Gail Mabalane, Thaban...   South Africa   \n",
       "2  Sami Bouajila, Tracy Gotoas, Samuel Jouy, Nabi...            NaN   \n",
       "3                                                NaN            NaN   \n",
       "4  Mayur More, Jitendra Kumar, Ranjan Raj, Alam K...          India   \n",
       "\n",
       "           date_added  release_year rating   duration  \\\n",
       "0  September 25, 2021          2020  PG-13     90 min   \n",
       "1  September 24, 2021          2021  TV-MA  2 Seasons   \n",
       "2  September 24, 2021          2021  TV-MA   1 Season   \n",
       "3  September 24, 2021          2021  TV-MA   1 Season   \n",
       "4  September 24, 2021          2021  TV-MA  2 Seasons   \n",
       "\n",
       "                                           listed_in  \\\n",
       "0                                      Documentaries   \n",
       "1    International TV Shows, TV Dramas, TV Mysteries   \n",
       "2  Crime TV Shows, International TV Shows, TV Act...   \n",
       "3                             Docuseries, Reality TV   \n",
       "4  International TV Shows, Romantic TV Shows, TV ...   \n",
       "\n",
       "                                         description Release_Status  \n",
       "0  As her father nears the end of his life, filmm...    New Release  \n",
       "1  After crossing paths at a party, a Cape Town t...    New Release  \n",
       "2  To protect his family from a powerful drug lor...    New Release  \n",
       "3  Feuds, flirtations and toilet talk go down amo...    New Release  \n",
       "4  In a city of coaching centers known to train I...    New Release  "
      ]
     },
     "execution_count": 24,
     "metadata": {},
     "output_type": "execute_result"
    }
   ],
   "source": [
    "df.head()"
   ]
  },
  {
   "cell_type": "code",
   "execution_count": 25,
   "id": "a3b81c9a",
   "metadata": {},
   "outputs": [],
   "source": [
    "df = pd.read_csv('airbnb.csv')"
   ]
  },
  {
   "cell_type": "code",
   "execution_count": 26,
   "id": "6e938ad9",
   "metadata": {},
   "outputs": [
    {
     "data": {
      "text/html": [
       "<div>\n",
       "<style scoped>\n",
       "    .dataframe tbody tr th:only-of-type {\n",
       "        vertical-align: middle;\n",
       "    }\n",
       "\n",
       "    .dataframe tbody tr th {\n",
       "        vertical-align: top;\n",
       "    }\n",
       "\n",
       "    .dataframe thead th {\n",
       "        text-align: right;\n",
       "    }\n",
       "</style>\n",
       "<table border=\"1\" class=\"dataframe\">\n",
       "  <thead>\n",
       "    <tr style=\"text-align: right;\">\n",
       "      <th></th>\n",
       "      <th>Unnamed: 0</th>\n",
       "      <th>realSum</th>\n",
       "      <th>room_type</th>\n",
       "      <th>room_shared</th>\n",
       "      <th>room_private</th>\n",
       "      <th>person_capacity</th>\n",
       "      <th>host_is_superhost</th>\n",
       "      <th>multi</th>\n",
       "      <th>biz</th>\n",
       "      <th>cleanliness_rating</th>\n",
       "      <th>guest_satisfaction_overall</th>\n",
       "      <th>bedrooms</th>\n",
       "      <th>dist</th>\n",
       "      <th>metro_dist</th>\n",
       "      <th>attr_index</th>\n",
       "      <th>attr_index_norm</th>\n",
       "      <th>rest_index</th>\n",
       "      <th>rest_index_norm</th>\n",
       "      <th>lng</th>\n",
       "      <th>lat</th>\n",
       "    </tr>\n",
       "  </thead>\n",
       "  <tbody>\n",
       "    <tr>\n",
       "      <th>0</th>\n",
       "      <td>0</td>\n",
       "      <td>570.098074</td>\n",
       "      <td>Entire home/apt</td>\n",
       "      <td>False</td>\n",
       "      <td>False</td>\n",
       "      <td>2.0</td>\n",
       "      <td>False</td>\n",
       "      <td>0</td>\n",
       "      <td>0</td>\n",
       "      <td>10.0</td>\n",
       "      <td>98.0</td>\n",
       "      <td>1</td>\n",
       "      <td>5.301018</td>\n",
       "      <td>1.588990</td>\n",
       "      <td>209.632578</td>\n",
       "      <td>14.571793</td>\n",
       "      <td>467.597522</td>\n",
       "      <td>8.372724</td>\n",
       "      <td>-0.16032</td>\n",
       "      <td>51.46531</td>\n",
       "    </tr>\n",
       "    <tr>\n",
       "      <th>1</th>\n",
       "      <td>1</td>\n",
       "      <td>297.984430</td>\n",
       "      <td>Private room</td>\n",
       "      <td>False</td>\n",
       "      <td>True</td>\n",
       "      <td>2.0</td>\n",
       "      <td>True</td>\n",
       "      <td>1</td>\n",
       "      <td>0</td>\n",
       "      <td>10.0</td>\n",
       "      <td>99.0</td>\n",
       "      <td>1</td>\n",
       "      <td>2.198946</td>\n",
       "      <td>0.379262</td>\n",
       "      <td>553.891744</td>\n",
       "      <td>38.501630</td>\n",
       "      <td>961.472137</td>\n",
       "      <td>17.215961</td>\n",
       "      <td>-0.09683</td>\n",
       "      <td>51.50343</td>\n",
       "    </tr>\n",
       "    <tr>\n",
       "      <th>2</th>\n",
       "      <td>2</td>\n",
       "      <td>336.790611</td>\n",
       "      <td>Private room</td>\n",
       "      <td>False</td>\n",
       "      <td>True</td>\n",
       "      <td>2.0</td>\n",
       "      <td>False</td>\n",
       "      <td>1</td>\n",
       "      <td>0</td>\n",
       "      <td>10.0</td>\n",
       "      <td>96.0</td>\n",
       "      <td>1</td>\n",
       "      <td>2.322958</td>\n",
       "      <td>0.453178</td>\n",
       "      <td>428.287849</td>\n",
       "      <td>29.770764</td>\n",
       "      <td>959.042839</td>\n",
       "      <td>17.172462</td>\n",
       "      <td>-0.10554</td>\n",
       "      <td>51.52407</td>\n",
       "    </tr>\n",
       "    <tr>\n",
       "      <th>3</th>\n",
       "      <td>3</td>\n",
       "      <td>226.722171</td>\n",
       "      <td>Private room</td>\n",
       "      <td>False</td>\n",
       "      <td>True</td>\n",
       "      <td>2.0</td>\n",
       "      <td>True</td>\n",
       "      <td>1</td>\n",
       "      <td>0</td>\n",
       "      <td>10.0</td>\n",
       "      <td>99.0</td>\n",
       "      <td>1</td>\n",
       "      <td>5.707825</td>\n",
       "      <td>1.723977</td>\n",
       "      <td>195.694744</td>\n",
       "      <td>13.602959</td>\n",
       "      <td>452.232472</td>\n",
       "      <td>8.097600</td>\n",
       "      <td>-0.16575</td>\n",
       "      <td>51.46292</td>\n",
       "    </tr>\n",
       "    <tr>\n",
       "      <th>4</th>\n",
       "      <td>4</td>\n",
       "      <td>256.355982</td>\n",
       "      <td>Private room</td>\n",
       "      <td>False</td>\n",
       "      <td>True</td>\n",
       "      <td>3.0</td>\n",
       "      <td>False</td>\n",
       "      <td>0</td>\n",
       "      <td>0</td>\n",
       "      <td>9.0</td>\n",
       "      <td>98.0</td>\n",
       "      <td>1</td>\n",
       "      <td>3.257945</td>\n",
       "      <td>0.825417</td>\n",
       "      <td>329.477068</td>\n",
       "      <td>22.902317</td>\n",
       "      <td>735.327280</td>\n",
       "      <td>13.166649</td>\n",
       "      <td>-0.12055</td>\n",
       "      <td>51.53728</td>\n",
       "    </tr>\n",
       "  </tbody>\n",
       "</table>\n",
       "</div>"
      ],
      "text/plain": [
       "   Unnamed: 0     realSum        room_type  room_shared  room_private  \\\n",
       "0           0  570.098074  Entire home/apt        False         False   \n",
       "1           1  297.984430     Private room        False          True   \n",
       "2           2  336.790611     Private room        False          True   \n",
       "3           3  226.722171     Private room        False          True   \n",
       "4           4  256.355982     Private room        False          True   \n",
       "\n",
       "   person_capacity  host_is_superhost  multi  biz  cleanliness_rating  \\\n",
       "0              2.0              False      0    0                10.0   \n",
       "1              2.0               True      1    0                10.0   \n",
       "2              2.0              False      1    0                10.0   \n",
       "3              2.0               True      1    0                10.0   \n",
       "4              3.0              False      0    0                 9.0   \n",
       "\n",
       "   guest_satisfaction_overall  bedrooms      dist  metro_dist  attr_index  \\\n",
       "0                        98.0         1  5.301018    1.588990  209.632578   \n",
       "1                        99.0         1  2.198946    0.379262  553.891744   \n",
       "2                        96.0         1  2.322958    0.453178  428.287849   \n",
       "3                        99.0         1  5.707825    1.723977  195.694744   \n",
       "4                        98.0         1  3.257945    0.825417  329.477068   \n",
       "\n",
       "   attr_index_norm  rest_index  rest_index_norm      lng       lat  \n",
       "0        14.571793  467.597522         8.372724 -0.16032  51.46531  \n",
       "1        38.501630  961.472137        17.215961 -0.09683  51.50343  \n",
       "2        29.770764  959.042839        17.172462 -0.10554  51.52407  \n",
       "3        13.602959  452.232472         8.097600 -0.16575  51.46292  \n",
       "4        22.902317  735.327280        13.166649 -0.12055  51.53728  "
      ]
     },
     "execution_count": 26,
     "metadata": {},
     "output_type": "execute_result"
    }
   ],
   "source": [
    "df.head()"
   ]
  },
  {
   "cell_type": "markdown",
   "id": "14702c46",
   "metadata": {},
   "source": [
    "relationship between the room_type column and person_capacity"
   ]
  },
  {
   "cell_type": "markdown",
   "id": "1ddfd97d",
   "metadata": {},
   "source": [
    "displays the proportion of room_type based on person_capacity"
   ]
  },
  {
   "cell_type": "code",
   "execution_count": 27,
   "id": "dbad4c6d",
   "metadata": {},
   "outputs": [
    {
     "data": {
      "text/plain": [
       "room_type\n",
       "Private room       2242\n",
       "Entire home/apt     635\n",
       "Shared room          14\n",
       "Name: count, dtype: int64"
      ]
     },
     "execution_count": 27,
     "metadata": {},
     "output_type": "execute_result"
    }
   ],
   "source": [
    "df.room_type[df[\"person_capacity\"]==2.0].value_counts()"
   ]
  },
  {
   "cell_type": "code",
   "execution_count": 28,
   "id": "d1286f47",
   "metadata": {},
   "outputs": [
    {
     "data": {
      "text/plain": [
       "<Axes: xlabel='room_type'>"
      ]
     },
     "execution_count": 28,
     "metadata": {},
     "output_type": "execute_result"
    },
    {
     "data": {
      "image/png": "[encoded data removed]",
      "text/plain": [
       "<Figure size 640x480 with 1 Axes>"
      ]
     },
     "metadata": {},
     "output_type": "display_data"
    }
   ],
   "source": [
    "df.room_type[df[\"person_capacity\"]==2.0].value_counts().plot(kind=\"bar\")"
   ]
  },
  {
   "cell_type": "code",
   "execution_count": null,
   "id": "deaa322b",
   "metadata": {},
   "outputs": [],
   "source": []
  }
 ],
 "metadata": {
  "kernelspec": {
   "display_name": "Python 3 (ipykernel)",
   "language": "python",
   "name": "python3"
  },
  "language_info": {
   "codemirror_mode": {
    "name": "ipython",
    "version": 3
   },
   "file_extension": ".py",
   "mimetype": "text/x-python",
   "name": "python",
   "nbconvert_exporter": "python",
   "pygments_lexer": "ipython3",
   "version": "3.11.7"
  }
 },
 "nbformat": 4,
 "nbformat_minor": 5
}
